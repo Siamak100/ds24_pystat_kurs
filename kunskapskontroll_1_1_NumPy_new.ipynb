{
 "cells": [
  {
   "cell_type": "markdown",
   "id": "dacf74e6",
   "metadata": {},
   "source": [
    "# NumPy"
   ]
  },
  {
   "cell_type": "markdown",
   "id": "01b2bf34",
   "metadata": {},
   "source": [
    "Read the links: https://numpy.org/doc/stable/user/quickstart.html  and https://numpy.org/doc/stable/user/basics.broadcasting.html  before solving the exercises. "
   ]
  },
  {
   "cell_type": "code",
   "execution_count": 1,
   "id": "1f79e4a6",
   "metadata": {},
   "outputs": [],
   "source": [
    "import numpy as np"
   ]
  },
  {
   "cell_type": "markdown",
   "id": "7dae6889",
   "metadata": {},
   "source": [
    "### Print out the dimension (number of axes), shape, size and the datatype of the matrix A."
   ]
  },
  {
   "cell_type": "code",
   "execution_count": 2,
   "id": "7b3678cd",
   "metadata": {},
   "outputs": [],
   "source": [
    "A = np.arange(1, 16).reshape(3,5)"
   ]
  },
  {
   "cell_type": "markdown",
   "id": "e56d2a96",
   "metadata": {},
   "source": [
    "### Do the following computations on the matrices B and C: \n",
    "* Elementwise subtraction. \n",
    "* Elementwise multiplication. \n",
    "* Matrix multiplication (by default you should use the @ operator)."
   ]
  },
  {
   "cell_type": "code",
   "execution_count": 3,
   "id": "b6dfc8e7",
   "metadata": {},
   "outputs": [
    {
     "name": "stdout",
     "output_type": "stream",
     "text": [
      "Lösning_konskapkontroll_1_1_Numpy\n",
      "Matris B:\n",
      "[[1 2 3]\n",
      " [4 5 6]\n",
      " [7 8 9]]\n",
      "\n",
      "Matris C:\n",
      "[[2. 2. 2.]\n",
      " [2. 2. 2.]\n",
      " [2. 2. 2.]]\n",
      "\n",
      "Elementvis subtraktion (B - C):\n",
      "[[-1.  0.  1.]\n",
      " [ 2.  3.  4.]\n",
      " [ 5.  6.  7.]]\n",
      "\n",
      "Elementvis multiplikation (B * C):\n",
      "[[ 2.  4.  6.]\n",
      " [ 8. 10. 12.]\n",
      " [14. 16. 18.]]\n",
      "\n",
      "Matris-multiplikation (B @ C):\n",
      "[[12. 12. 12.]\n",
      " [30. 30. 30.]\n",
      " [48. 48. 48.]]\n"
     ]
    }
   ],
   "source": [
    "import numpy as np\n",
    "B = np.arange(1, 10).reshape(3, 3)\n",
    "C = np.ones((3, 3))*2\n",
    "print (\"Lösning_konskapkontroll_1_1_Numpy\")\n",
    "\n",
    "# Skriv ut matriserna ochlösning\n",
    "print(\"Matris B:\")\n",
    "print(B)\n",
    "print(\"\\nMatris C:\")\n",
    "print(C)\n",
    "print(\"\\nElementvis subtraktion (B - C):\")\n",
    "print(B - C)\n",
    "print(\"\\nElementvis multiplikation (B * C):\")\n",
    "print(B * C)\n",
    "print(\"\\nMatris-multiplikation (B @ C):\")\n",
    "print(B @ C)"
   ]
  },
  {
   "cell_type": "code",
   "execution_count": null,
   "id": "962ac064",
   "metadata": {},
   "outputs": [],
   "source": []
  },
  {
   "cell_type": "markdown",
   "id": "96030d53",
   "metadata": {},
   "source": [
    "### Do the following calculations on the matrix:\n",
    "* Exponentiate each number elementwise (use the np.exp function).\n",
    "\n",
    "* Calculate the minimum value in the whole matrix. \n",
    "* Calculcate the minimum value in each row. \n",
    "* Calculcate the minimum value in each column. \n",
    "\n",
    "\n",
    "* Find the index value for the minimum value in the whole matrix (hint: use np.argmin).\n",
    "* Find the index value for the minimum value in each row (hint: use np.argmin).\n",
    "\n",
    "\n",
    "* Calculate the sum for all elements.\n",
    "* Calculate the mean for each column. \n",
    "* Calculate the median for each column. "
   ]
  },
  {
   "cell_type": "code",
   "execution_count": 4,
   "id": "f8a9166b",
   "metadata": {},
   "outputs": [
    {
     "name": "stdout",
     "output_type": "stream",
     "text": [
      "skafades 3*3 matrix som B\n",
      "[[1 2 3]\n",
      " [4 5 6]\n",
      " [7 8 9]]\n",
      "/nElementvis exponentiering\n",
      "exp_matrix\n",
      "/nminsta värdet i hela matrisen\n",
      "1\n",
      "/nminsta värdet i varje rad\n",
      "[1 4 7]\n",
      "minsta värdet i varje kolumn\n",
      "[1 2 3]\n",
      "/nminsta värdet i hela matrisen\n",
      "/nIndex för minsta värdet i varje rad\n",
      "[0 0 0]\n",
      "/nSummera alla element\n",
      "45\n",
      "/nMedelvärde för varje kolumn\n",
      "[4. 5. 6.]\n",
      "/nMedian för varje kolumn\n",
      "[4. 5. 6.]\n"
     ]
    }
   ],
   "source": [
    "import numpy as np\n",
    "B = np.arange(1, 10).reshape(3, 3)\n",
    "print(\"skafades 3*3 matrix som B\")\n",
    "print(B)\n",
    "print(\"/nElementvis exponentiering\")\n",
    "exp_matrix = np.exp(B)\n",
    "print(\"exp_matrix\")\n",
    "print(\"/nminsta värdet i hela matrisen\")\n",
    "min_value = np.min(B)\n",
    "print(min_value)\n",
    "print(\"/nminsta värdet i varje rad\")\n",
    "min_row = np.min(B, axis=1)\n",
    "print(min_row)\n",
    "print(\"minsta värdet i varje kolumn\") \n",
    "min_column = np.min(B, axis=0)\n",
    "print(min_column)\n",
    "print(\"/nminsta värdet i hela matrisen\") \n",
    "min_index = np.argmin(B)\n",
    "print(\"/nIndex för minsta värdet i varje rad\")\n",
    "min_index_row = np.argmin(B, axis=1)\n",
    "print(min_index_row)\n",
    "print(\"/nSummera alla element\")\n",
    "sum_all_elements = np.sum(B)\n",
    "print(sum_all_elements)\n",
    "print(\"/nMedelvärde för varje kolumn\")\n",
    "sum_all_elements = np.mean(B, axis=0)\n",
    "print(sum_all_elements)\n",
    "print(\"/nMedian för varje kolumn\") \n",
    "median_column = np.median(B, axis=0)\n",
    "print(median_column)\n"
   ]
  },
  {
   "cell_type": "markdown",
   "id": "541eb7ba",
   "metadata": {},
   "source": [
    "### What does it mean when you provide fewer indices than axes when slicing? See example below."
   ]
  },
  {
   "cell_type": "code",
   "execution_count": 5,
   "id": "9c8abf56",
   "metadata": {},
   "outputs": [
    {
     "name": "stdout",
     "output_type": "stream",
     "text": [
      "[[ 1  2  3  4  5]\n",
      " [ 6  7  8  9 10]\n",
      " [11 12 13 14 15]]\n"
     ]
    }
   ],
   "source": [
    "print(A)"
   ]
  },
  {
   "cell_type": "code",
   "execution_count": 6,
   "id": "69415f7b",
   "metadata": {},
   "outputs": [
    {
     "data": {
      "text/plain": [
       "array([ 6,  7,  8,  9, 10])"
      ]
     },
     "execution_count": 6,
     "metadata": {},
     "output_type": "execute_result"
    }
   ],
   "source": [
    "A[1]"
   ]
  },
  {
   "cell_type": "markdown",
   "id": "6c53541b",
   "metadata": {},
   "source": [
    "**Answer:**"
   ]
  },
  {
   "cell_type": "code",
   "execution_count": 7,
   "id": "de01e120",
   "metadata": {},
   "outputs": [
    {
     "data": {
      "text/plain": [
       "' detta som att man vill ha andra raden (index 1), och returnerar alla kolumner för den raden.'"
      ]
     },
     "execution_count": 7,
     "metadata": {},
     "output_type": "execute_result"
    }
   ],
   "source": [
    "\"\"\" detta som att man vill ha andra raden (index 1), och returnerar alla kolumner för den raden.\"\"\""
   ]
  },
  {
   "cell_type": "markdown",
   "id": "6652d0c9",
   "metadata": {},
   "source": [
    "### Iterating over multidimensional arrays is done with respect to the first axis, so in the example below we iterate trough the rows. If you would like to iterate through the array *elementwise*, how would you do that?"
   ]
  },
  {
   "cell_type": "code",
   "execution_count": 8,
   "id": "9459864f",
   "metadata": {},
   "outputs": [
    {
     "data": {
      "text/plain": [
       "array([[ 1,  2,  3,  4,  5],\n",
       "       [ 6,  7,  8,  9, 10],\n",
       "       [11, 12, 13, 14, 15]])"
      ]
     },
     "execution_count": 8,
     "metadata": {},
     "output_type": "execute_result"
    }
   ],
   "source": [
    "A"
   ]
  },
  {
   "cell_type": "code",
   "execution_count": 9,
   "id": "a671bb5a",
   "metadata": {},
   "outputs": [
    {
     "name": "stdout",
     "output_type": "stream",
     "text": [
      "[1 2 3 4 5]\n",
      "[ 6  7  8  9 10]\n",
      "[11 12 13 14 15]\n"
     ]
    }
   ],
   "source": [
    "for i in A:\n",
    "    print(i)"
   ]
  },
  {
   "cell_type": "code",
   "execution_count": 10,
   "id": "f4e443a0",
   "metadata": {},
   "outputs": [
    {
     "name": "stdout",
     "output_type": "stream",
     "text": [
      "(array(1), array(6), array(11))\n",
      "(array(2), array(7), array(12))\n",
      "(array(3), array(8), array(13))\n",
      "(array(4), array(9), array(14))\n",
      "(array(5), array(10), array(15))\n"
     ]
    }
   ],
   "source": [
    "\"\"\"np.nditer(A) skapar en iterator som itererar elementvis över varje värde i matrisen\"\"\"\n",
    "A= ([[ 1,  2,  3,  4,  5],\n",
    "       [ 6,  7,  8,  9, 10],\n",
    "       [11, 12, 13, 14, 15]])\n",
    "\n",
    "for i in np.nditer(A):\n",
    "    print(i)"
   ]
  },
  {
   "cell_type": "markdown",
   "id": "608a2583",
   "metadata": {},
   "source": [
    "### Explain what the code below does. More specifically, b has three axes - what does this mean? "
   ]
  },
  {
   "cell_type": "code",
   "execution_count": 11,
   "id": "f8f9b26f",
   "metadata": {},
   "outputs": [
    {
     "name": "stdout",
     "output_type": "stream",
     "text": [
      "[ 0  1  2  3  4  5  6  7  8  9 10 11 12 13 14 15 16 17 18 19 20 21 22 23\n",
      " 24 25 26 27 28 29]\n",
      "----------------------------------------------------------------------------------------------------\n",
      "b ska vara :\n",
      "[[[ 0  1  2  3  4]\n",
      "  [ 5  6  7  8  9]\n",
      "  [10 11 12 13 14]]\n",
      "\n",
      " [[15 16 17 18 19]\n",
      "  [20 21 22 23 24]\n",
      "  [25 26 27 28 29]]]\n"
     ]
    }
   ],
   "source": [
    "\"\"\"En array med tre axlar betyder att arrayen är tredimensionell:\n",
    "\n",
    "Den första axeln har storleken 2 , det finns två \"block\" i arrayen.\n",
    "Den andra axeln har storleken 3 , varje block har tre rader.\n",
    "Den tredje axeln har storleken -1 ,att Python ska räkna ut vad den tredje dimensionen ska vara\"\"\"\n",
    "\"\"\"paython reknar Python räkna ut att den tredje dimensionen måste vara 5 för att det totala antalet element (30) ska kunna fördelas jämt\"\"\"\n",
    "a = np.arange(30)\n",
    "b = a.reshape((2, 3, -1))\n",
    "print(a)\n",
    "print(\"-\"*100)\n",
    "print(\"b ska vara :\")\n",
    "print(b)\n"
   ]
  },
  {
   "cell_type": "markdown",
   "id": "ab5933d5",
   "metadata": {},
   "source": [
    "### Broadcasting\n",
    "**Read the following link about broadcasting: https://numpy.org/doc/stable/user/basics.broadcasting.html#basics-broadcasting**"
   ]
  },
  {
   "cell_type": "markdown",
   "id": "039805ba",
   "metadata": {},
   "source": [
    "# Remark on Broadcasting when doing Linear Algebra calculations in Python. "
   ]
  },
  {
   "cell_type": "markdown",
   "id": "c4bcc147",
   "metadata": {},
   "source": [
    "### From the mathematical rules of matrix addition, the operation below (m1 + m2) does not make sense. The reason is that matrix addition requires two matrices of the same size. In Python however, it works due to broadcasting rules in NumPy. So you must be careful when doing Linear Algebra calculations in Python since they do not follow the \"mathematical rules\". This can however easily be handled by doing some simple programming, for example validating that two matrices have the same shape is easy if you for instance want to add two matrices. "
   ]
  },
  {
   "cell_type": "code",
   "execution_count": 12,
   "id": "1fd46778",
   "metadata": {},
   "outputs": [
    {
     "name": "stdout",
     "output_type": "stream",
     "text": [
      "[[2 3]\n",
      " [4 5]]\n"
     ]
    }
   ],
   "source": [
    "import numpy as np\n",
    "m1 = np.array([[1, 2], [3, 4]])\n",
    "m2 = np.array([1, 1])\n",
    "print(m1 + m2)"
   ]
  },
  {
   "cell_type": "markdown",
   "id": "047d6576",
   "metadata": {},
   "source": [
    "### The example below would also not be allowed if following the \"mathematical rules\" in Linear Algebra. But it works due to broadcasting in NumPy. "
   ]
  },
  {
   "cell_type": "code",
   "execution_count": 13,
   "id": "5e6ef2e4",
   "metadata": {},
   "outputs": [
    {
     "name": "stdout",
     "output_type": "stream",
     "text": [
      "[2 3 4]\n"
     ]
    }
   ],
   "source": [
    "v1 = np.array([1, 2, 3])\n",
    "print(v1 + 1)"
   ]
  },
  {
   "cell_type": "code",
   "execution_count": 14,
   "id": "e2cbae26",
   "metadata": {},
   "outputs": [
    {
     "name": "stdout",
     "output_type": "stream",
     "text": [
      "[[1 2]\n",
      " [3 4]]\n",
      "[2 2]\n"
     ]
    }
   ],
   "source": [
    "A = np.arange(1, 5).reshape(2,2)\n",
    "print(A)\n",
    "\n",
    "b = np.array([2, 2])\n",
    "print(b)"
   ]
  },
  {
   "cell_type": "markdown",
   "id": "722fd5cd",
   "metadata": {},
   "source": [
    "# Vector- and matrix algebra Exercises"
   ]
  },
  {
   "cell_type": "markdown",
   "id": "b63a3081-d976-4d9f-bfd0-a63917e79f7d",
   "metadata": {},
   "source": [
    "**Now you are going to create a function that can be reused every time you add or multiply matrices. The function is created so that we do the addition and multiplication according to the rules of vector- and matrix algebra.**\n",
    "\n",
    "**Create a function \"add_mult_matrices\" that takes two matrices as input arguments (validate that the input are of the type numpy.ndarray by using the isinstance function), a third argument that is either 'add' or 'multiply' that specifies if you want to add or multiply the matrices (validate that the third argument is either 'add' or 'multiply'). When doing matrix addition, validate that the matrices have the same size. When doing matrix multiplication, validate that the sizes conform (i.e. number of columns in the first matrix is equal to the number of rows in the second matrix).**"
   ]
  },
  {
   "cell_type": "code",
   "execution_count": 15,
   "id": "3506f977-ac0a-473f-85bc-eec9f35dc498",
   "metadata": {},
   "outputs": [
    {
     "name": "stdout",
     "output_type": "stream",
     "text": [
      "Addition result:\n",
      " [[ 6  8]\n",
      " [10 12]]\n",
      "Multiplication result:\n",
      " [[19 22]\n",
      " [43 50]]\n"
     ]
    }
   ],
   "source": [
    "import numpy as np\n",
    "\n",
    "def add_mult_matrices(matrix1, matrix2, operation):\n",
    "    # Validate that the inputs are numpy ndarrays\n",
    "    if not isinstance(matrix1, np.ndarray) or not isinstance(matrix2, np.ndarray):\n",
    "        raise ValueError(\"Both inputs must be of type numpy.ndarray.\")\n",
    "    \n",
    "    # Validate the operation argument\n",
    "    if operation not in ['add', 'multiply']:\n",
    "        raise ValueError(\"The operation must be either 'add' or 'multiply'.\")\n",
    "    \n",
    "    # Perform addition\n",
    "    if operation == 'add':\n",
    "        if matrix1.shape != matrix2.shape:\n",
    "            raise ValueError(\"Matrices must be the same size for addition.\")\n",
    "        return matrix1 + matrix2\n",
    "    \n",
    "    # Perform multiplication\n",
    "    elif operation == 'multiply':\n",
    "        if matrix1.shape[1] != matrix2.shape[0]:\n",
    "            raise ValueError(\"Number of columns in the first matrix must equal the number of rows in the second matrix.\")\n",
    "        return np.dot(matrix1, matrix2)\n",
    "\n",
    "# Example usage:\n",
    "matrix_a = np.array([[1, 2], [3, 4]])\n",
    "matrix_b = np.array([[5, 6], [7, 8]])\n",
    "\n",
    "# Adding the matrices\n",
    "result_add = add_mult_matrices(matrix_a, matrix_b, 'add')\n",
    "print(\"Addition result:\\n\", result_add)\n",
    "\n",
    "# Multiplying the matrices\n",
    "result_multiply = add_mult_matrices(matrix_a, matrix_b, 'multiply')\n",
    "print(\"Multiplication result:\\n\", result_multiply)\n"
   ]
  },
  {
   "cell_type": "markdown",
   "id": "8dad82d0-2359-4dff-8f5b-a57d3e34103c",
   "metadata": {},
   "source": [
    "### Solve all the exercises in chapter 10.1 in the book \"Matematik för yrkeshögskolan\". "
   ]
  },
  {
   "cell_type": "code",
   "execution_count": 16,
   "id": "89df88af-3668-4d98-a0a4-e6d92eea0f89",
   "metadata": {},
   "outputs": [
    {
     "name": "stdout",
     "output_type": "stream",
     "text": [
      "dimension har vektorn x^2:   1\n",
      "x^2 ska vara : [6 1]\n",
      "--$$----$$--\n",
      "5x ska vara : [20 15]\n",
      "--$$----$$--\n",
      "3x ska vara : [12  9]\n",
      "--$$----$$--\n",
      "5x+3x ska vara : [32 24]\n",
      "--$$----$$--\n",
      "8x ska vara : [32 24]\n",
      "--$$----$$--\n",
      "4x-x ska vara : [12  9]\n",
      "--$$----$$--\n",
      "x_Transposw : [[4]\n",
      " [3]]\n",
      "--$$----$$--\n",
      "Norm x : 5.0\n",
      "--$$----$$--\n"
     ]
    }
   ],
   "source": [
    "\"\"\"Uppgift 10.1.1. Definiera vektorn x enligt nedan.\n",
    "x = (4, 3)\n",
    "(a) Vilken dimension har vektorn x^2?\n",
    "(b) Ber¨akna 5x.\n",
    "(c) Ber¨akna 3x.\n",
    "(d) Ber¨akna 5x + 3x.\n",
    "(e) Ber¨akna 8x.\n",
    "(f) Ber¨akna 4x − x.\n",
    "(g) Ber¨akna x\n",
    "⊤, vilken blir den nya dimensionen efter att\n",
    "transponeringen utf¨orts?\n",
    "(h) Ar ¨ x + x\n",
    "⊤ definierat?\n",
    "(i) Ber¨akna ∥x∥.\"\"\"\n",
    "\n",
    "#Definera v:\n",
    "x = np.array([4, 3])\n",
    "#(a) Vilken dimension har vektorn x^2\n",
    "print(\"dimension har vektorn x^2:  \",np.ndim(x^2)) \n",
    "print(\"x^2 ska vara :\", x^2)\n",
    "print(\"--$$--\"*2)\n",
    "print(\"5x ska vara :\", 5*x)\n",
    "print(\"--$$--\"*2)\n",
    "print(\"3x ska vara :\", 3*x)\n",
    "print(\"--$$--\"*2)\n",
    "print(\"5x+3x ska vara :\", (5*x)+(3*x))\n",
    "print(\"--$$--\"*2)\n",
    "print(\"8x ska vara :\", 8*x)\n",
    "print(\"--$$--\"*2)\n",
    "print(\"4x-x ska vara :\", (4 * x) - x)\n",
    "print(\"--$$--\"*2)\n",
    "print(\"x_Transposw :\", x.reshape(-1, 1))\n",
    "print(\"--$$--\"*2)\n",
    "print(\"Norm x :\", np.linalg.norm(x))\n",
    "print(\"--$$--\"*2)\n"
   ]
  },
  {
   "cell_type": "markdown",
   "id": "75c98984-1f88-4df1-b850-d2466de444a5",
   "metadata": {},
   "source": [
    "### Solve all the exercises, except 10.2.4, in chapter 10.2 in the book \"Matematik för yrkeshögskolan\". "
   ]
  },
  {
   "cell_type": "code",
   "execution_count": 24,
   "id": "65371610-16e1-48b2-b7fb-65e49002608a",
   "metadata": {},
   "outputs": [
    {
     "name": "stdout",
     "output_type": "stream",
     "text": [
      "--$$----$$--\n",
      "--$$----$$--\n",
      "X som lösning är: (array([ 2.13691417,  4.83412322, -1.89152185]), array([15.04002106]), np.int32(3), array([13.61546816,  4.59720879,  0.69620265]))\n"
     ]
    }
   ],
   "source": [
    "#Skriv det linj¨ara ekvationssystemet nedan p˚a\n",
    "#formen Ax = b.\n",
    "\"\"\"3x1 + 2x2 + 4x3 = 7\n",
    "2x1 + 3x2 + 8x3 = 4\n",
    "4x1 + x2 + 3x3 = 11\n",
    "7x1 + x2 + 5x3 = 9\"\"\"\n",
    "#Verifiera att din l¨osning ¨ar korrekt genom att skriva ut matris\u0002multiplikationen\n",
    "#  Ax = b och dubbelkolla att du f˚ar tillbaka det ursprungliga ekvationssystemet.\n",
    "print(\"--$$--\"*2)\n",
    "\"\"\"A = [[3, 2, 4],\n",
    "     [2, 3, 8],\n",
    "     [4, 1, 3],\n",
    "     [7, 1, 5]]\n",
    "\n",
    "x = [1, 1, 1]\n",
    "\n",
    "\n",
    "b = [7, 4, 11, 9]\"\"\"\n",
    "print(\"--$$--\"*2)\n",
    "import numpy as np\n",
    "\n",
    "# Definiera matriserna och vektorn\n",
    "A = np.array([[3, 2, 4],\n",
    "              [2, 3, 8],\n",
    "              [4, 1, 3],\n",
    "              [7, 1, 5]])\n",
    "\n",
    "b = np.array([7, 4, 11, 9])\n",
    "X = np.linalg.lstsq(A, b) \n",
    "print(\"X som lösning är:\", X)"
   ]
  },
  {
   "cell_type": "markdown",
   "id": "6a4a524f",
   "metadata": {},
   "source": [
    "### Copies and Views\n",
    "Read the following link: https://numpy.org/doc/stable/user/basics.copies.html"
   ]
  },
  {
   "cell_type": "markdown",
   "id": "6cbbeaf7",
   "metadata": {},
   "source": [
    "**Basic indexing creates a view, How can you check if v1 and v2 is a view or copy? If you change the last element in v2 to 123, will the last element in v1 be changed? Why?**"
   ]
  },
  {
   "cell_type": "code",
   "execution_count": 68,
   "id": "5b9ef4df",
   "metadata": {},
   "outputs": [
    {
     "name": "stdout",
     "output_type": "stream",
     "text": [
      "[0 1 2 3]\n",
      "[2 3]\n"
     ]
    }
   ],
   "source": [
    "v1 = np.arange(4)\n",
    "v2 = v1[-2:]\n",
    "print(v1)\n"
   ]
  },
  {
   "cell_type": "code",
   "execution_count": 79,
   "id": "7d04bf90",
   "metadata": {},
   "outputs": [
    {
     "name": "stdout",
     "output_type": "stream",
     "text": [
      "innan ändering:\n",
      "v1: [0 1 2 3]\n",
      "v2: [2 3]\n",
      "efter ändring:\n",
      "v1: [  0   1   2 123]\n",
      "v2: [  2 123]\n",
      "None\n",
      "[  0   1   2 123]\n"
     ]
    }
   ],
   "source": [
    "#när vi användar index av elementer för att definera v2,detta är inte  nya variabel\n",
    "#  uttan detta är/n ett referanc  eller en viwe till v1 index medan copy skappar ny\n",
    "#  variabel med nya index.\n",
    "# till mer förståelse :\n",
    "import numpy as np\n",
    "\n",
    "v1 = np.arange(4)\n",
    "v2 = v1[-2:]\n",
    "\n",
    "print(\"innan ändering:\")\n",
    "print(\"v1:\", v1)\n",
    "print(\"v2:\", v2)\n",
    "\n",
    "# om vi ändra sista elementet i v2 till 123 :\n",
    "v2[-1] = 123\n",
    "\n",
    "print(\"efter ändring:\") \n",
    "print(\"v1:\", v1)\n",
    "print(\"v2:\", v2)\n",
    "print(v1.base)\n",
    "print(v2.base)"
   ]
  }
 ],
 "metadata": {
  "kernelspec": {
   "display_name": "Python 3",
   "language": "python",
   "name": "python3"
  },
  "language_info": {
   "codemirror_mode": {
    "name": "ipython",
    "version": 3
   },
   "file_extension": ".py",
   "mimetype": "text/x-python",
   "name": "python",
   "nbconvert_exporter": "python",
   "pygments_lexer": "ipython3",
   "version": "3.13.0"
  }
 },
 "nbformat": 4,
 "nbformat_minor": 5
}
